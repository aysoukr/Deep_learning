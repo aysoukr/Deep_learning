{
  "nbformat": 4,
  "nbformat_minor": 0,
  "metadata": {
    "colab": {
      "provenance": [],
      "authorship_tag": "ABX9TyOyixK+x32zh1m0ODR42Z2V",
      "include_colab_link": true
    },
    "kernelspec": {
      "name": "python3",
      "display_name": "Python 3"
    },
    "language_info": {
      "name": "python"
    }
  },
  "cells": [
    {
      "cell_type": "markdown",
      "metadata": {
        "id": "view-in-github",
        "colab_type": "text"
      },
      "source": [
        "<a href=\"https://colab.research.google.com/github/aysoukr/Deep_learning/blob/main/Transforming_and_augmenting.ipynb\" target=\"_parent\"><img src=\"https://colab.research.google.com/assets/colab-badge.svg\" alt=\"Open In Colab\"/></a>"
      ]
    },
    {
      "cell_type": "code",
      "execution_count": 2,
      "metadata": {
        "id": "FYDDGbgzUhTO"
      },
      "outputs": [],
      "source": [
        "from PIL import Image\n",
        "from torchvision import transforms\n",
        "import matplotlib.pyplot as plt\n",
        "import matplotlib.image as mpimg\n",
        "import numpy as np\n",
        "import torchvision\n",
        "%matplotlib inline"
      ]
    },
    {
      "cell_type": "code",
      "source": [
        "import matplotlib as mpl\n",
        "from torchvision import transforms\n",
        "mpl.rcParams['axes.grid']= False\n",
        "mpl.rcParams['image.interpolation']= 'nearest'\n",
        "\n",
        "def show_dataset(dataset, n=6):\n",
        "  img= np.vstack((np.hstack((np.asarray(dataset[i][0])for _ in range(n)))\n",
        "                  for i in range(len(dataset))))\n",
        "  plt.figure(figsize=(10,500))\n",
        "  plt.imshow(img)\n",
        "  plt.axis('off')"
      ],
      "metadata": {
        "id": "E8uDYJh7Vh6O"
      },
      "execution_count": 3,
      "outputs": []
    },
    {
      "cell_type": "code",
      "source": [
        "!git clone https://github.com/fabioperez/pytorch-examples/"
      ],
      "metadata": {
        "colab": {
          "base_uri": "https://localhost:8080/"
        },
        "id": "BYBGNTe2VmYI",
        "outputId": "f5838c79-2872-4ee2-c757-1751366f2955"
      },
      "execution_count": 4,
      "outputs": [
        {
          "output_type": "stream",
          "name": "stdout",
          "text": [
            "Cloning into 'pytorch-examples'...\n",
            "remote: Enumerating objects: 102, done.\u001b[K\n",
            "remote: Total 102 (delta 0), reused 0 (delta 0), pack-reused 102\u001b[K\n",
            "Receiving objects: 100% (102/102), 14.79 MiB | 9.53 MiB/s, done.\n",
            "Resolving deltas: 100% (12/12), done.\n"
          ]
        }
      ]
    },
    {
      "cell_type": "code",
      "source": [
        "transforms= transforms.Compose([\n",
        "    transforms.Resize((224,224)),\n",
        "    transforms.ColorJitter(hue=.05, contrast=2),\n",
        "    transforms.RandomHorizontalFlip()\n",
        "])"
      ],
      "metadata": {
        "id": "WQ8P8MaQVp9r"
      },
      "execution_count": null,
      "outputs": []
    },
    {
      "cell_type": "code",
      "source": [
        "dataset= torchvision.datasets.ImageFolder('pytorch-examples/data/classification', transform= transforms)"
      ],
      "metadata": {
        "id": "_2ddype-Vt14"
      },
      "execution_count": null,
      "outputs": []
    },
    {
      "cell_type": "code",
      "source": [
        "show_dataset(dataset)"
      ],
      "metadata": {
        "id": "dIvuCp1lVx21"
      },
      "execution_count": null,
      "outputs": []
    }
  ]
}