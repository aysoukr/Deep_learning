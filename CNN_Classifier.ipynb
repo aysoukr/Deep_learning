{
  "nbformat": 4,
  "nbformat_minor": 0,
  "metadata": {
    "colab": {
      "provenance": [],
      "gpuType": "T4",
      "authorship_tag": "ABX9TyPeZuCQm0Bb/HcOA+i7sFqZ",
      "include_colab_link": true
    },
    "kernelspec": {
      "name": "python3",
      "display_name": "Python 3"
    },
    "language_info": {
      "name": "python"
    },
    "gpuClass": "standard"
  },
  "cells": [
    {
      "cell_type": "markdown",
      "metadata": {
        "id": "view-in-github",
        "colab_type": "text"
      },
      "source": [
        "<a href=\"https://colab.research.google.com/github/aysoukr/Deep_learning/blob/main/CNN_Classifier.ipynb\" target=\"_parent\"><img src=\"https://colab.research.google.com/assets/colab-badge.svg\" alt=\"Open In Colab\"/></a>"
      ]
    },
    {
      "cell_type": "code",
      "execution_count": null,
      "metadata": {
        "id": "P0mq06LhmaHE"
      },
      "outputs": [],
      "source": [
        "import torch\n",
        "import torchvision\n",
        "import torchvision.transforms as transforms\n",
        "import matplotlib.pyplot as plt\n",
        "import numpy as np\n",
        "import torchvision.datasets as datasets\n",
        "from torch.utils.data import DataLoader\n",
        "import torch.nn as nn"
      ]
    },
    {
      "cell_type": "code",
      "source": [
        "Normalize_transform= transforms.Compose([transforms.ToTensor(),transforms.Normalize(mean=(0.5,0.5,0.5),std=(0.5,0.5,0.5))])"
      ],
      "metadata": {
        "id": "AHEtXDJwB7G0"
      },
      "execution_count": null,
      "outputs": []
    },
    {
      "cell_type": "code",
      "source": [
        "train_datasets= datasets.CIFAR10(\n",
        "       root='./CIFAR10/Train',\n",
        "       train= True,\n",
        "       transform=Normalize_transform,\n",
        "       download=True\n",
        ")\n",
        "test_datasets= datasets.CIFAR10(\n",
        "       root='./CIFAR10/Test',\n",
        "       train= False,\n",
        "       transform=Normalize_transform,\n",
        "       download=True\n",
        ")"
      ],
      "metadata": {
        "colab": {
          "base_uri": "https://localhost:8080/"
        },
        "id": "P67uYFBbFo-a",
        "outputId": "adad838b-4e87-4b57-901f-55dd2aa9a26b"
      },
      "execution_count": null,
      "outputs": [
        {
          "output_type": "stream",
          "name": "stdout",
          "text": [
            "Downloading https://www.cs.toronto.edu/~kriz/cifar-10-python.tar.gz to ./CIFAR10/Train/cifar-10-python.tar.gz\n"
          ]
        },
        {
          "output_type": "stream",
          "name": "stderr",
          "text": [
            "100%|██████████| 170498071/170498071 [00:04<00:00, 37580194.74it/s]\n"
          ]
        },
        {
          "output_type": "stream",
          "name": "stdout",
          "text": [
            "Extracting ./CIFAR10/Train/cifar-10-python.tar.gz to ./CIFAR10/Train\n",
            "Downloading https://www.cs.toronto.edu/~kriz/cifar-10-python.tar.gz to ./CIFAR10/Test/cifar-10-python.tar.gz\n"
          ]
        },
        {
          "output_type": "stream",
          "name": "stderr",
          "text": [
            "100%|██████████| 170498071/170498071 [00:03<00:00, 46429040.40it/s]\n"
          ]
        },
        {
          "output_type": "stream",
          "name": "stdout",
          "text": [
            "Extracting ./CIFAR10/Test/cifar-10-python.tar.gz to ./CIFAR10/Test\n"
          ]
        }
      ]
    },
    {
      "cell_type": "code",
      "source": [
        "Batch_size=256\n",
        "train_loader=DataLoader(train_datasets,batch_size=Batch_size)\n",
        "test_loader=DataLoader(test_datasets,batch_size=Batch_size)"
      ],
      "metadata": {
        "id": "hMYfjj2oINTh"
      },
      "execution_count": null,
      "outputs": []
    },
    {
      "cell_type": "code",
      "source": [
        "dataiter= iter(train_loader)\n",
        "image, label= next(dataiter)"
      ],
      "metadata": {
        "id": "LMcMUIh_JBfj"
      },
      "execution_count": null,
      "outputs": []
    },
    {
      "cell_type": "markdown",
      "source": [
        "plt.imshow(np.transpose(torchvision.utils.make_grid(image[:25], normalize=True, padding=1, nrow=5).numpy(), (1,2,0)))\n",
        "plt.axis('off')"
      ],
      "metadata": {
        "id": "efUOXKINPuaC"
      }
    },
    {
      "cell_type": "code",
      "source": [
        "classes= []\n",
        "for i, data in enumerate(train_loader):\n",
        "  x,y= data\n",
        "  classes.extend(y.tolist())"
      ],
      "metadata": {
        "id": "Ya1vhH92GwMc"
      },
      "execution_count": null,
      "outputs": []
    },
    {
      "cell_type": "code",
      "source": [
        "unique, count= np.unique(classes, return_counts=True)\n",
        "name=list(test_datasets.class_to_idx.keys())\n",
        "\n",
        "plt.bar(name,count)\n",
        "plt.xlabel('Classes')\n",
        "plt.ylabel('Counts')"
      ],
      "metadata": {
        "colab": {
          "base_uri": "https://localhost:8080/",
          "height": 466
        },
        "id": "Hg8-C0JLHNFq",
        "outputId": "40f20be4-03e9-4538-d996-a470c4c071df"
      },
      "execution_count": null,
      "outputs": [
        {
          "output_type": "execute_result",
          "data": {
            "text/plain": [
              "Text(0, 0.5, 'Counts')"
            ]
          },
          "metadata": {},
          "execution_count": 7
        },
        {
          "output_type": "display_data",
          "data": {
            "text/plain": [
              "<Figure size 640x480 with 1 Axes>"
            ],
            "image/png": "[encoded data removed]"
          },
          "metadata": {}
        }
      ]
    },
    {
      "cell_type": "code",
      "source": [
        "class Classifier(nn.Module):\n",
        "  def __init__(self):\n",
        "    super().__init__()\n",
        "\n",
        "    self.model= nn.sequential(\n",
        "    nn.Conv2d(in_channels=3, out_channels=32, kernel_size= 3, padding=1),\n",
        "    nn.LeakyReLU(0.01),\n",
        "    nn.MaxPool2d(kernel_size=2), #32*16*16\n",
        "\n",
        "    nn.Conv2d(in_channels=32, out_channels=64, kernel_size= 3, padding=1),\n",
        "    nn.LeakyReLU(0.01),\n",
        "    nn.MaxPool2d(kernel_size=2), \n",
        "    \n",
        "    nn.Conv2d(in_channels=64, out_channels=64, kernel_size= 3, padding=1),\n",
        "    nn.LeakyReLU(0.01),\n",
        "    nn.MaxPool2d(kernel_size=2),\n",
        "    \n",
        "    nn.Flatten(),\n",
        "    nn.Linear(64*4*4, 512),\n",
        "    nn.LeakyReLU(0.01),\n",
        "    nn.Linear(512,10)\n",
        "\n",
        "    \n",
        ")\n",
        "\n",
        "  def forward(self,x):\n",
        "\n",
        "    return self.model(x)"
      ],
      "metadata": {
        "id": "yxvWrS5vJ6t6"
      },
      "execution_count": null,
      "outputs": []
    },
    {
      "cell_type": "code",
      "source": [
        "model"
      ],
      "metadata": {
        "colab": {
          "base_uri": "https://localhost:8080/"
        },
        "id": "wFIKodfeunjJ",
        "outputId": "109e1d11-7d86-4b8c-98b6-678f3eb62272"
      },
      "execution_count": null,
      "outputs": [
        {
          "output_type": "execute_result",
          "data": {
            "text/plain": [
              "Classifier(\n",
              "  (CNN1): Conv2d(3, 64, kernel_size=(3, 3), stride=(1, 1), padding=(1, 1))\n",
              "  (relu1): ReLU()\n",
              "  (pool): MaxPool2d(kernel_size=2, stride=2, padding=0, dilation=1, ceil_mode=False)\n",
              "  (flatt): Flatten(start_dim=1, end_dim=-1)\n",
              "  (FC1): Linear(in_features=16384, out_features=256, bias=True)\n",
              "  (relu2): ReLU()\n",
              "  (FC2): Linear(in_features=256, out_features=10, bias=True)\n",
              ")"
            ]
          },
          "metadata": {},
          "execution_count": 41
        }
      ]
    },
    {
      "cell_type": "markdown",
      "source": [
        "**Testing**"
      ],
      "metadata": {
        "id": "XRq1myDXMbqI"
      }
    },
    {
      "cell_type": "code",
      "source": [
        "a= torch.randn(3,32,32)\n",
        "CNN1= nn.Conv2d(in_channels=3, out_channels=64, kernel_size= 3, padding=1)\n"
      ],
      "metadata": {
        "id": "tHzatjTKMhFA"
      },
      "execution_count": null,
      "outputs": []
    },
    {
      "cell_type": "code",
      "source": [
        "b= CNN1(a)\n",
        "b.shape"
      ],
      "metadata": {
        "colab": {
          "base_uri": "https://localhost:8080/"
        },
        "id": "kMWAAMKYMxwA",
        "outputId": "ed595243-8f09-4431-9f05-0e18fa9d93f1"
      },
      "execution_count": null,
      "outputs": [
        {
          "output_type": "execute_result",
          "data": {
            "text/plain": [
              "torch.Size([64, 32, 32])"
            ]
          },
          "metadata": {},
          "execution_count": 20
        }
      ]
    },
    {
      "cell_type": "code",
      "source": [
        "device= 'cuda' if torch.cuda.is_available() else 'cpu'\n",
        "model= Classifier().to(device)"
      ],
      "metadata": {
        "id": "PVsb0z0iM5Qy",
        "colab": {
          "base_uri": "https://localhost:8080/",
          "height": 304
        },
        "outputId": "bf2ab87f-c0b0-487e-f47d-f0df3a489a72"
      },
      "execution_count": null,
      "outputs": [
        {
          "output_type": "error",
          "ename": "AttributeError",
          "evalue": "ignored",
          "traceback": [
            "\u001b[0;31m---------------------------------------------------------------------------\u001b[0m",
            "\u001b[0;31mAttributeError\u001b[0m                            Traceback (most recent call last)",
            "\u001b[0;32m<ipython-input-48-d63ba59ec564>\u001b[0m in \u001b[0;36m<cell line: 2>\u001b[0;34m()\u001b[0m\n\u001b[1;32m      1\u001b[0m \u001b[0mdevice\u001b[0m\u001b[0;34m=\u001b[0m \u001b[0;34m'cuda'\u001b[0m \u001b[0;32mif\u001b[0m \u001b[0mtorch\u001b[0m\u001b[0;34m.\u001b[0m\u001b[0mcuda\u001b[0m\u001b[0;34m.\u001b[0m\u001b[0mis_available\u001b[0m\u001b[0;34m(\u001b[0m\u001b[0;34m)\u001b[0m \u001b[0;32melse\u001b[0m \u001b[0;34m'cpu'\u001b[0m\u001b[0;34m\u001b[0m\u001b[0;34m\u001b[0m\u001b[0m\n\u001b[0;32m----> 2\u001b[0;31m \u001b[0mmodel\u001b[0m\u001b[0;34m=\u001b[0m \u001b[0mClassifier\u001b[0m\u001b[0;34m(\u001b[0m\u001b[0;34m)\u001b[0m\u001b[0;34m.\u001b[0m\u001b[0mto\u001b[0m\u001b[0;34m(\u001b[0m\u001b[0mdevice\u001b[0m\u001b[0;34m)\u001b[0m\u001b[0;34m\u001b[0m\u001b[0;34m\u001b[0m\u001b[0m\n\u001b[0m",
            "\u001b[0;32m<ipython-input-47-98320561aa35>\u001b[0m in \u001b[0;36m__init__\u001b[0;34m(self)\u001b[0m\n\u001b[1;32m      3\u001b[0m     \u001b[0msuper\u001b[0m\u001b[0;34m(\u001b[0m\u001b[0;34m)\u001b[0m\u001b[0;34m.\u001b[0m\u001b[0m__init__\u001b[0m\u001b[0;34m(\u001b[0m\u001b[0;34m)\u001b[0m\u001b[0;34m\u001b[0m\u001b[0;34m\u001b[0m\u001b[0m\n\u001b[1;32m      4\u001b[0m \u001b[0;34m\u001b[0m\u001b[0m\n\u001b[0;32m----> 5\u001b[0;31m     self.model= nn.sequential(\n\u001b[0m\u001b[1;32m      6\u001b[0m     \u001b[0mnn\u001b[0m\u001b[0;34m.\u001b[0m\u001b[0mConv2d\u001b[0m\u001b[0;34m(\u001b[0m\u001b[0min_channels\u001b[0m\u001b[0;34m=\u001b[0m\u001b[0;36m3\u001b[0m\u001b[0;34m,\u001b[0m \u001b[0mout_channels\u001b[0m\u001b[0;34m=\u001b[0m\u001b[0;36m32\u001b[0m\u001b[0;34m,\u001b[0m \u001b[0mkernel_size\u001b[0m\u001b[0;34m=\u001b[0m \u001b[0;36m3\u001b[0m\u001b[0;34m,\u001b[0m \u001b[0mpadding\u001b[0m\u001b[0;34m=\u001b[0m\u001b[0;36m1\u001b[0m\u001b[0;34m)\u001b[0m\u001b[0;34m,\u001b[0m\u001b[0;34m\u001b[0m\u001b[0;34m\u001b[0m\u001b[0m\n\u001b[1;32m      7\u001b[0m     \u001b[0mnn\u001b[0m\u001b[0;34m.\u001b[0m\u001b[0mLeakyReLU\u001b[0m\u001b[0;34m(\u001b[0m\u001b[0;36m0.01\u001b[0m\u001b[0;34m)\u001b[0m\u001b[0;34m,\u001b[0m\u001b[0;34m\u001b[0m\u001b[0;34m\u001b[0m\u001b[0m\n",
            "\u001b[0;31mAttributeError\u001b[0m: module 'torch.nn' has no attribute 'sequential'"
          ]
        }
      ]
    },
    {
      "cell_type": "code",
      "source": [
        "model"
      ],
      "metadata": {
        "colab": {
          "base_uri": "https://localhost:8080/"
        },
        "id": "YQLIA2YZUxHo",
        "outputId": "b06fef13-aaae-4415-b1da-fe3bbfbb4425"
      },
      "execution_count": null,
      "outputs": [
        {
          "output_type": "execute_result",
          "data": {
            "text/plain": [
              "Classifier(\n",
              "  (CNN1): Conv2d(3, 64, kernel_size=(3, 3), stride=(1, 1), padding=(1, 1))\n",
              "  (relu1): ReLU()\n",
              "  (pool): MaxPool2d(kernel_size=2, stride=2, padding=0, dilation=1, ceil_mode=False)\n",
              "  (flatt): Flatten(start_dim=1, end_dim=-1)\n",
              "  (FC1): Linear(in_features=16384, out_features=256, bias=True)\n",
              "  (relu2): ReLU()\n",
              "  (FC2): Linear(in_features=256, out_features=10, bias=True)\n",
              ")"
            ]
          },
          "metadata": {},
          "execution_count": 21
        }
      ]
    },
    {
      "cell_type": "code",
      "source": [
        "def count_parameter(model):\n",
        "  return sum(p.numel() for p in model.parameters() if p.requires_grad)"
      ],
      "metadata": {
        "id": "fNZ3b4Cw3RMA"
      },
      "execution_count": null,
      "outputs": []
    },
    {
      "cell_type": "code",
      "source": [
        "print(f'The model has {count_parameter(model):,} trainable parameters ')"
      ],
      "metadata": {
        "colab": {
          "base_uri": "https://localhost:8080/"
        },
        "id": "t7AqGHov3vzC",
        "outputId": "b295901a-2698-4555-bb74-cd33b97b19bc"
      },
      "execution_count": null,
      "outputs": [
        {
          "output_type": "stream",
          "name": "stdout",
          "text": [
            "The model has 4,198,922 trainable parameters \n"
          ]
        }
      ]
    },
    {
      "cell_type": "code",
      "source": [
        "epochs=10\n",
        "lr=0.001\n",
        "criterion= nn.CrossEntropyLoss()\n",
        "opimizer= torch.optim.Adam(model.parameters(), lr=lr)"
      ],
      "metadata": {
        "id": "Idbgf2MoU3uO"
      },
      "execution_count": null,
      "outputs": []
    },
    {
      "cell_type": "code",
      "source": [
        "train_loss_list=[]\n",
        "for epoch in range (epochs):\n",
        "  print(f'Epoch{epoch+1}')\n",
        "  train_loss=0\n",
        "\n",
        "  model.train()\n",
        "  for i, (images, labels) in enumerate (train_loader):\n",
        "    images= images.to(device)\n",
        "    labels= labels.to(device)\n",
        "    \n",
        "\n",
        "    output= model(images)\n",
        "    loss= criterion(output, labels)\n",
        "\n",
        "    opimizer.zero_grad()\n",
        "    loss.backward()\n",
        "    opimizer.step()\n",
        "    train_loss+=loss.item()\n",
        "\n",
        "  train_loss_list.append(train_loss/len(train_loader))\n",
        "  print(f'Training Loss ={train_loss_list[-1]}')\n",
        "\n"
      ],
      "metadata": {
        "id": "6L4IxUS-ToQR",
        "colab": {
          "base_uri": "https://localhost:8080/"
        },
        "outputId": "e08cbcf8-87d7-49db-e848-349b67394def"
      },
      "execution_count": null,
      "outputs": [
        {
          "output_type": "stream",
          "name": "stdout",
          "text": [
            "Epoch1\n",
            "Training Loss =0.9432004854387167\n",
            "Epoch2\n",
            "Training Loss =0.8735280702916943\n",
            "Epoch3\n",
            "Training Loss =0.8415668275283308\n",
            "Epoch4\n",
            "Training Loss =0.8329254361439724\n",
            "Epoch5\n",
            "Training Loss =0.8182956430376792\n",
            "Epoch6\n",
            "Training Loss =0.7864434831604665\n",
            "Epoch7\n",
            "Training Loss =0.7671947959734469\n",
            "Epoch8\n",
            "Training Loss =0.7526160770533036\n",
            "Epoch9\n",
            "Training Loss =0.7483681624337118\n",
            "Epoch10\n",
            "Training Loss =0.705891987803031\n"
          ]
        }
      ]
    },
    {
      "cell_type": "code",
      "source": [
        "plt.plot(range(1, epochs+1),train_loss_list)\n",
        "plt.xlabel(\"number of epochs\")\n",
        "plt.ylabel(\"Training Loss\")"
      ],
      "metadata": {
        "id": "zxcbjQaqWQk1",
        "colab": {
          "base_uri": "https://localhost:8080/",
          "height": 466
        },
        "outputId": "c5ab4c7e-d63b-4e43-d237-115dcd79b2b3"
      },
      "execution_count": null,
      "outputs": [
        {
          "output_type": "execute_result",
          "data": {
            "text/plain": [
              "Text(0, 0.5, 'Training Loss')"
            ]
          },
          "metadata": {},
          "execution_count": 24
        },
        {
          "output_type": "display_data",
          "data": {
            "text/plain": [
              "<Figure size 640x480 with 1 Axes>"
            ],
            "image/png": "[encoded data removed]"
          },
          "metadata": {}
        }
      ]
    },
    {
      "cell_type": "code",
      "source": [
        "test_acc=0\n",
        "model.eval()\n",
        "with torch.no_grad():\n",
        "  for I, (image, label) in enumerate (test_loader):\n",
        "    image, label= image.to(device) , label.to(device)\n",
        "    outputs= model(image)\n",
        "\n",
        "    _ , y_pred=torch.max(outputs,1)\n",
        "    test_acc= (y_pred==label).sum().item()\n",
        "\n",
        "  print(f'test accuracy is {100*test_acc/len(test_datasets)}%')"
      ],
      "metadata": {
        "colab": {
          "base_uri": "https://localhost:8080/",
          "height": 252
        },
        "id": "HFHJ_vEbfHNd",
        "outputId": "d5d938a9-2643-4ff4-b07e-717b716b76f7"
      },
      "execution_count": null,
      "outputs": [
        {
          "output_type": "error",
          "ename": "RuntimeError",
          "evalue": "ignored",
          "traceback": [
            "\u001b[0;31m---------------------------------------------------------------------------\u001b[0m",
            "\u001b[0;31mRuntimeError\u001b[0m                              Traceback (most recent call last)",
            "\u001b[0;32m<ipython-input-44-8d7e24205b16>\u001b[0m in \u001b[0;36m<cell line: 3>\u001b[0;34m()\u001b[0m\n\u001b[1;32m      3\u001b[0m \u001b[0;32mwith\u001b[0m \u001b[0mtorch\u001b[0m\u001b[0;34m.\u001b[0m\u001b[0mno_grad\u001b[0m\u001b[0;34m(\u001b[0m\u001b[0;34m)\u001b[0m\u001b[0;34m:\u001b[0m\u001b[0;34m\u001b[0m\u001b[0;34m\u001b[0m\u001b[0m\n\u001b[1;32m      4\u001b[0m   \u001b[0;32mfor\u001b[0m \u001b[0mI\u001b[0m\u001b[0;34m,\u001b[0m \u001b[0;34m(\u001b[0m\u001b[0mimage\u001b[0m\u001b[0;34m,\u001b[0m \u001b[0mlabel\u001b[0m\u001b[0;34m)\u001b[0m \u001b[0;32min\u001b[0m \u001b[0menumerate\u001b[0m \u001b[0;34m(\u001b[0m\u001b[0mtest_loader\u001b[0m\u001b[0;34m)\u001b[0m\u001b[0;34m:\u001b[0m\u001b[0;34m\u001b[0m\u001b[0;34m\u001b[0m\u001b[0m\n\u001b[0;32m----> 5\u001b[0;31m     \u001b[0mimage\u001b[0m\u001b[0;34m,\u001b[0m \u001b[0mlabel\u001b[0m\u001b[0;34m=\u001b[0m \u001b[0mimage\u001b[0m\u001b[0;34m.\u001b[0m\u001b[0mto\u001b[0m\u001b[0;34m(\u001b[0m\u001b[0mdevice\u001b[0m\u001b[0;34m)\u001b[0m \u001b[0;34m,\u001b[0m \u001b[0mlabel\u001b[0m\u001b[0;34m.\u001b[0m\u001b[0mto\u001b[0m\u001b[0;34m(\u001b[0m\u001b[0mdevice\u001b[0m\u001b[0;34m)\u001b[0m\u001b[0;34m\u001b[0m\u001b[0;34m\u001b[0m\u001b[0m\n\u001b[0m\u001b[1;32m      6\u001b[0m     \u001b[0moutputs\u001b[0m\u001b[0;34m=\u001b[0m \u001b[0mmodel\u001b[0m\u001b[0;34m(\u001b[0m\u001b[0mimage\u001b[0m\u001b[0;34m)\u001b[0m\u001b[0;34m\u001b[0m\u001b[0;34m\u001b[0m\u001b[0m\n\u001b[1;32m      7\u001b[0m \u001b[0;34m\u001b[0m\u001b[0m\n",
            "\u001b[0;31mRuntimeError\u001b[0m: Expected one of cpu, cuda, ipu, xpu, mkldnn, opengl, opencl, ideep, hip, ve, fpga, ort, xla, lazy, vulkan, mps, meta, hpu, mtia, privateuseone device type at start of device string: CPU"
          ]
        }
      ]
    }
  ]
}